{
 "cells": [
  {
   "cell_type": "markdown",
   "id": "04b3d24d",
   "metadata": {},
   "source": [
    "# Feed forward network\n",
    "\n",
    "In this exercise you shall develop our own building blocks for constructing a feed forward network.\n",
    "We will follow a modular approach so that we can use these building blocks in feed forward architecture of our choice.\n",
    "\n",
    "We will follow the logic of computation graphs where the layers and the loss have the characteristics of the compute nodes in terms of locality and ability to communicate with upstream and downstream blocks.\n",
    "\n",
    "Instead of defining the forward and backward steps as functions that need to pass around cached variables, we will implement the compute nodes as statefull objects - instantiations of python classes with forward and backward methods.\n",
    "\n",
    "We will then conscruct a 2 layer neural network and use our newly developed functionality to predict the target values and compute the parameter gradients.\n",
    "\n",
    "Work through the cells below and complete the tasks indicated by <span style=\"color:red\">**TODO**</span> here below and in the script `ann_code/layers.py` (replace `pass` with the appropriate code)."
   ]
  },
  {
   "cell_type": "code",
   "id": "0d6f0ff4",
   "metadata": {
    "ExecuteTime": {
     "end_time": "2025-06-22T16:16:34.277911Z",
     "start_time": "2025-06-22T16:16:30.824511Z"
    }
   },
   "source": [
    "# necessary initialization\n",
    "%load_ext autoreload\n",
    "%autoreload 2\n",
    "\n",
    "import torch"
   ],
   "outputs": [],
   "execution_count": 1
  },
  {
   "cell_type": "code",
   "id": "979a3fff",
   "metadata": {
    "ExecuteTime": {
     "end_time": "2025-06-22T16:16:34.409127Z",
     "start_time": "2025-06-22T16:16:34.278959Z"
    }
   },
   "source": [
    "# load data\n",
    "from ann_code.helpers import load_data\n",
    "in_data, labels = load_data(filename='./ann_data/toy_data.csv') # correct filename if necessary\n",
    "\n",
    "# get data dimensions\n",
    "num_inst, num_dim = in_data.shape\n",
    "print(f\"Number of instances: {num_inst}, input dimensions: {num_dim}.\")"
   ],
   "outputs": [
    {
     "name": "stdout",
     "output_type": "stream",
     "text": [
      "Number of instances: 90, input dimensions: 3.\n"
     ]
    }
   ],
   "execution_count": 2
  },
  {
   "cell_type": "markdown",
   "id": "441dd5a4",
   "metadata": {},
   "source": [
    "## 1) Forward pass\n",
    "\n",
    "We first work on the forward pass functionality of our layer objects."
   ]
  },
  {
   "cell_type": "markdown",
   "id": "798266a9",
   "metadata": {},
   "source": [
    "### Linear layer\n",
    "\n",
    "We start by defyining the linear layer.\n",
    "Complete the `__init__` and `forward` methods of the `Linear` class in `ann_code/layers.py`.\n",
    "\n",
    "The class object instances shall be initialized with the linear function parameters (weight and bias) as the instance attributes.\n",
    "The other local information (inputs, outputs and their gradients) shall be also defined as the instance object attributes and will be populated by the `forward` and `backward` methods."
   ]
  },
  {
   "cell_type": "code",
   "id": "e65e8e95",
   "metadata": {
    "ExecuteTime": {
     "end_time": "2025-06-22T16:16:34.532884Z",
     "start_time": "2025-06-22T16:16:34.409127Z"
    }
   },
   "source": [
    "# after implementing Linear class, check it here\n",
    "from ann_code.layers import Linear\n",
    "\n",
    "# initiate w and b buffers\n",
    "# we use these for initiating the model parameters instead of the usual random init\n",
    "# this is to make sure that yours and mine results match\n",
    "w_buffer = torch.logspace(start=0.1, end=10, steps=1000)\n",
    "b_buffer = torch.logspace(start=0.1, end=10, steps=1000, base=2)\n",
    "\n",
    "# linear layer dimensions\n",
    "in_features = num_dim\n",
    "out_features = 10\n",
    "################################################################################\n",
    "### START OF YOUR CODE                                                         #\n",
    "### TODO: initiate a linear layer instance                                     #\n",
    "################################################################################\n",
    "# initialize linear layer parameters from the buffers\n",
    "# first extract from the buffers the necessary number of elements \n",
    "# followed by view() to get the correct shape\n",
    "# e.g. for 2x3 w matrix with 6 elements in total do \n",
    "# w = w_buffer[:6].view(2, 3)\n",
    "\n",
    "w = w_buffer[:out_features*in_features].view(out_features, num_dim)\n",
    "b = b_buffer[:out_features].view(1, out_features)\n",
    "#pass\n",
    "\n",
    "# instantiate the linear layer object\n",
    "linear = Linear(w, b)\n",
    "#pass\n",
    "\n",
    "################################################################################\n",
    "### END OF YOUR CODE                                                           #\n",
    "################################################################################\n",
    "\n",
    "# forward pass in_data through the layer\n",
    "outputs = linear.forward(in_data)\n",
    "\n",
    "# check outputs for the first two data instances\n",
    "print(f'Your outputs {outputs[:2,:]}')"
   ],
   "outputs": [
    {
     "name": "stdout",
     "output_type": "stream",
     "text": [
      "Your outputs tensor([[ 1.0220,  1.0258,  1.0295,  1.0329,  1.0361,  1.0391,  1.0418,  1.0441,\n",
      "          1.0462,  1.0479],\n",
      "        [-0.4527, -0.5533, -0.6615, -0.7779, -0.9030, -1.0374, -1.1819, -1.3370,\n",
      "         -1.5037, -1.6827]])\n"
     ]
    }
   ],
   "execution_count": 3
  },
  {
   "cell_type": "markdown",
   "id": "959d9d18",
   "metadata": {},
   "source": [
    "Expected outputs\n",
    "\n",
    "`tensor([[ 1.0220,  1.0258,  1.0295,  1.0329,  1.0361,  1.0391,  1.0418,  1.0441,\n",
    "          1.0462,  1.0479],\n",
    "        [-0.4527, -0.5533, -0.6615, -0.7779, -0.9030, -1.0374, -1.1819, -1.3370,\n",
    "         -1.5037, -1.6827]])`"
   ]
  },
  {
   "cell_type": "markdown",
   "id": "3bd1e04c",
   "metadata": {},
   "source": [
    "### ReLU nonlinearity\n",
    "\n",
    "We next defined the class for the Rectified Linear Unit which is an element-wise operation defined as $ReLU(x) = max(0, x).$\n",
    "\n",
    "Complete the `forward` methods of the `Relu` class in `ann_code/layers.py`. Note that in this case, there are no parameters that should be included in the object instances as initial states."
   ]
  },
  {
   "cell_type": "code",
   "id": "4c8941aa",
   "metadata": {
    "ExecuteTime": {
     "end_time": "2025-06-22T16:16:34.622902Z",
     "start_time": "2025-06-22T16:16:34.533277Z"
    }
   },
   "source": [
    "# After implementing Relu class, check it here\n",
    "from ann_code.layers import Relu\n",
    "\n",
    "# relu instance\n",
    "relu = Relu()\n",
    "\n",
    "# forward pass in_data through the layer\n",
    "outputs = relu.forward(in_data)\n",
    "\n",
    "# check outputs for the first two data instances\n",
    "print(f'Your outputs {outputs[:2,:]}')"
   ],
   "outputs": [
    {
     "name": "stdout",
     "output_type": "stream",
     "text": [
      "Your outputs tensor([[0.8872, 0.0000, 0.3707],\n",
      "        [0.0000, 1.3094, 0.0000]])\n"
     ]
    }
   ],
   "execution_count": 4
  },
  {
   "cell_type": "markdown",
   "id": "278bafde",
   "metadata": {},
   "source": [
    "Expected outputs\n",
    "\n",
    "`tensor([[0.8872, 0.0000, 0.3707],\n",
    "        [0.0000, 1.3094, 0.0000]])`"
   ]
  },
  {
   "cell_type": "markdown",
   "id": "941c79b9",
   "metadata": {},
   "source": [
    "### Define network with on hidden layer\n",
    "\n",
    "We use the linear and relu classes to create a network with the following architecture. \n",
    "We combine the layers through the `Model` class that I defined for you in the `ann_code/layers.py`\n",
    "\n",
    "We will add the MSE less in a later step, now do just the forward pass through the layers to obtain the predicitons.\n",
    "\n",
    "<center><img src=\"net_diagram.png\">\n",
    "\n"
   ]
  },
  {
   "cell_type": "code",
   "id": "8ad5a04d",
   "metadata": {
    "ExecuteTime": {
     "end_time": "2025-06-22T16:42:53.676195Z",
     "start_time": "2025-06-22T16:42:53.575314Z"
    }
   },
   "source": [
    "# work with Model class to do the forward pass through the network\n",
    "from ann_code.layers import Model\n",
    "\n",
    "################################################################################\n",
    "### START OF YOUR CODE                                                         #\n",
    "### TODO: initiate all layers of nerual network                                #\n",
    "################################################################################\n",
    "# initialize parameters for all layers from the w_buffer and b_buffer\n",
    "# first extract from the buffers the necessary number of elements \n",
    "# followed by view() to get the correct shape\n",
    "# start after the last previously used element of the buffer for every new parameter from the same buffer\n",
    "# e.g. for 2x3 matrix w1 with 6 elements and 3x3 matrix w2 with 9 elements do\n",
    "# w1 = w_buffer[:6].view(2, 3)\n",
    "# w2 = w_buffer[6:15].view(3, 3)\n",
    "\n",
    "out_features_h1 = 4\n",
    "in_features_h1 = num_dim\n",
    "in_features_h2 = out_features_h1\n",
    "out_features_h2 = 1\n",
    "\n",
    "w1 = w_buffer[:out_features_h1*in_features_h1].view(out_features_h1, in_features_h1)\n",
    "b1 = b_buffer[:out_features_h1].view(1, out_features_h1)\n",
    "w2 = w_buffer[out_features_h1*in_features_h1 : out_features_h1*in_features_h1 + out_features_h2*in_features_h2].view(out_features_h2, in_features_h2)\n",
    "b2 = b_buffer[out_features_h1 : out_features_h1 + out_features_h2].view(1, out_features_h2)\n",
    "\n",
    "#pass\n",
    "\n",
    "# instantiate the linear layer object\n",
    "lin1 = Linear(w1, b1)\n",
    "relu1 = Relu()\n",
    "lin2 = Linear(w2, b2)\n",
    "#pass\n",
    "\n",
    "# define all necessary layers as instances of the Linear and Relu classes\n",
    "#pass\n",
    "\n",
    "# create a list with the layers to be passed to Model(layers)\n",
    "layers = [lin1, relu1, lin2]\n",
    "#pass\n",
    "\n",
    "################################################################################\n",
    "### END OF YOUR CODE                                                           #\n",
    "################################################################################\n",
    "\n",
    "\n",
    "# forward pass in_data through all layers to get predictions\n",
    "model = Model(layers)\n",
    "ypred = model.forward(in_data)\n",
    "\n",
    "\n",
    "# check outputs for the first two data instances\n",
    "print(f'Your outputs {ypred[:2,:]}')"
   ],
   "outputs": [
    {
     "name": "stdout",
     "output_type": "stream",
     "text": [
      "Your outputs tensor([[8.1458],\n",
      "        [1.1016]], grad_fn=<SliceBackward0>)\n"
     ]
    }
   ],
   "execution_count": 32
  },
  {
   "cell_type": "markdown",
   "id": "c87699ab",
   "metadata": {},
   "source": [
    "Expected output\n",
    "\n",
    "`tensor([[8.1458],\n",
    "        [1.1016]])`"
   ]
  },
  {
   "cell_type": "markdown",
   "id": "a63f299c",
   "metadata": {},
   "source": [
    "## 3) MSE loss\n",
    "\n",
    "We use the MSE loss functions defined in `ann_code/linear_regression.py` to get the mse loss for our predictions and the corresponding gradients."
   ]
  },
  {
   "cell_type": "code",
   "id": "5f704f6b",
   "metadata": {
    "ExecuteTime": {
     "end_time": "2025-06-22T16:43:19.078983Z",
     "start_time": "2025-06-22T16:43:18.999335Z"
    }
   },
   "source": [
    "# use mse functions defined for linear regression to get the MSE and gradient with respect to predictions\n",
    "from ann_code.linear_regression import mse_forward, mse_backward\n",
    "\n",
    "loss, mse_cache = mse_forward(ypred, labels)\n",
    "ypredgrad, _ = mse_backward(mse_cache)"
   ],
   "outputs": [],
   "execution_count": 33
  },
  {
   "cell_type": "markdown",
   "id": "f4c3bcb0",
   "metadata": {},
   "source": [
    "## 3) Backward propagation\n",
    "\n",
    "Finally, you need to implement the `backward` methods in for the `Linear` and `Relu` classes.\n",
    "\n",
    "Remember that you need to use the chain rule and combine the local and the upstream gradient to obtain the global gradients. Do not forget that ReLu is an element-wise operation."
   ]
  },
  {
   "cell_type": "code",
   "id": "97b4ced4",
   "metadata": {
    "ExecuteTime": {
     "end_time": "2025-06-22T16:43:21.731001Z",
     "start_time": "2025-06-22T16:43:21.649650Z"
    }
   },
   "source": [
    "# After implementing the backward passes of Linear class test it here\n",
    "\n",
    "# do the backward pass of last linear layer\n",
    "lin2.backward(torch.ones(num_inst, 1))\n",
    "\n",
    "# check global gradients\n",
    "print(f'Global gradient of loss with respect to weight parameters {lin2.w_g}')\n",
    "print(f'Global gradient of loss with respect to bias parameters {lin2.b_g}')\n",
    "print(f'Global gradient of loss with respect to linear layer inputs {lin2.ins_g[:2,:]}')"
   ],
   "outputs": [
    {
     "name": "stdout",
     "output_type": "stream",
     "text": [
      "Global gradient of loss with respect to weight parameters tensor([[106.2968, 108.7577, 111.4530, 114.4143]], grad_fn=<MmBackward0>)\n",
      "Global gradient of loss with respect to bias parameters tensor([[90.]])\n",
      "Global gradient of loss with respect to linear layer inputs tensor([[1.6555, 1.6937, 1.7328, 1.7728],\n",
      "        [1.6555, 1.6937, 1.7328, 1.7728]])\n"
     ]
    }
   ],
   "execution_count": 34
  },
  {
   "cell_type": "markdown",
   "id": "b853b139",
   "metadata": {},
   "source": [
    "Expected results\n",
    "\n",
    "`Global gradient of loss with respect to weight parameters tensor([[106.2968, 108.7577, 111.4530, 114.4143]])`\n",
    "\n",
    "`Global gradient of loss with respect to bias parameters tensor([[90.]])`\n",
    "\n",
    "`Global gradient of loss with respect to linear layer inputs tensor([[1.6555, 1.6937, 1.7328, 1.7728],\n",
    "        [1.6555, 1.6937, 1.7328, 1.7728]])`"
   ]
  },
  {
   "cell_type": "code",
   "id": "1a043849",
   "metadata": {
    "ExecuteTime": {
     "end_time": "2025-06-22T16:43:27.405704Z",
     "start_time": "2025-06-22T16:43:27.325474Z"
    }
   },
   "source": [
    "# After implementing the backward passes of relu class test it here\n",
    "\n",
    "# do the backward pass of relu\n",
    "relu1.backward(torch.arange(num_inst*4).view(num_inst, 4))\n",
    "\n",
    "# check global gradients\n",
    "print(f'Global gradient of loss with respect to relu inputs {relu1.ins_g[:2,:]}')"
   ],
   "outputs": [
    {
     "name": "stdout",
     "output_type": "stream",
     "text": [
      "Global gradient of loss with respect to relu inputs tensor([[0., 1., 2., 3.],\n",
      "        [0., 0., 0., 0.]])\n"
     ]
    }
   ],
   "execution_count": 35
  },
  {
   "cell_type": "markdown",
   "id": "f9b0ffd7",
   "metadata": {},
   "source": [
    "Expected results\n",
    "\n",
    "`Global gradient of loss with respect to relu inputs tensor([[0., 1., 2., 3.],\n",
    "        [0., 0., 0., 0.]])`"
   ]
  },
  {
   "cell_type": "markdown",
   "id": "17daa25f",
   "metadata": {},
   "source": [
    "## Complete backward pass\n",
    "\n",
    "We shall use the Model class to get the gradients of all the layers and their parameters with respect to the loss."
   ]
  },
  {
   "cell_type": "code",
   "id": "f8234339",
   "metadata": {
    "ExecuteTime": {
     "end_time": "2025-06-22T16:43:29.541708Z",
     "start_time": "2025-06-22T16:43:29.459137Z"
    }
   },
   "source": [
    "from ann_code.helpers import grad_model\n",
    "\n",
    "# do the backward pass through the model\n",
    "model.backward(ypredgrad)\n",
    "\n",
    "# print out your gradients of loss with respect to the parameters of the 1st model layer\n",
    "print(f'Your dLoss/dW1: {model.layers[0].w_g}')\n",
    "print(f'Your dLoss/db1: {model.layers[0].b_g}')\n",
    "print(f'Your dLoss/dins: {model.layers[0].ins_g[:2, :]}')\n",
    "\n",
    "# print out correct gradients of loss with respect to the parameters of the 1st model layer\n",
    "# these should be the same as your gradients from above\n",
    "model_check = grad_model(model, in_data, labels)\n",
    "print(f'Correct dLoss/dW1: {model_check.layers[0].w_g}')\n",
    "print(f'Correct dLoss/db1: {model_check.layers[0].b_g}')\n",
    "print(f'Correct dLoss/dins: {model_check.layers[0].ins_g[:2, :]}')"
   ],
   "outputs": [
    {
     "name": "stdout",
     "output_type": "stream",
     "text": [
      "Your dLoss/dW1: tensor([[10.4693,  6.8379,  4.1449],\n",
      "        [10.5790,  7.0695,  4.3389],\n",
      "        [10.8324,  7.2315,  4.4382],\n",
      "        [11.0693,  7.3818,  4.5600]], grad_fn=<MmBackward0>)\n",
      "Your dLoss/db1: tensor([[31.2568, 31.9208, 32.6484, 33.4148]], grad_fn=<SumBackward1>)\n",
      "Your dLoss/dins: tensor([[1.6884, 1.7274, 1.7673],\n",
      "        [0.0000, 0.0000, 0.0000]], grad_fn=<SliceBackward0>)\n",
      "Correct dLoss/dW1: tensor([[10.4693,  6.8379,  4.1449],\n",
      "        [10.5790,  7.0695,  4.3389],\n",
      "        [10.8324,  7.2315,  4.4382],\n",
      "        [11.0693,  7.3818,  4.5600]], grad_fn=<MmBackward0>)\n",
      "Correct dLoss/db1: tensor([[31.2568, 31.9208, 32.6484, 33.4148]], grad_fn=<SumBackward1>)\n",
      "Correct dLoss/dins: tensor([[1.6884, 1.7274, 1.7673],\n",
      "        [0.0000, 0.0000, 0.0000]], grad_fn=<SliceBackward0>)\n"
     ]
    }
   ],
   "execution_count": 36
  },
  {
   "cell_type": "markdown",
   "id": "cf57647f",
   "metadata": {},
   "source": [
    "## 4) Multilayer feed forward network\n",
    "\n",
    "Finally, use your `Linear` and `Relu` classes and combine them with the `Model` class to construct a more complicated network.\n",
    "\n",
    "Define a network with the following architecture:\n",
    "Linear: input_dim = 3, output_dim = 5 -> Relu ->\n",
    "Linear: input_dim = 5, output_dim = 10 -> Relu ->\n",
    "Linear: input_dim = 10, output_dim = 4 -> Relu ->\n",
    "Linear: input_dim = 4, output_dim = 1\n",
    "\n",
    "Initialize all the linear layers with parameters W and b sampled randomly from standardat normal distribution.\n",
    "\n",
    "Combine the layers using the `Model` class and get the predictions (`forward` method).\n",
    "\n",
    "Use the MSE forward and backward functions to get the loss and the gradient with respect to the predictions.\n",
    "\n",
    "Use the `backward` method of `Model` to get all the gradients."
   ]
  },
  {
   "cell_type": "code",
   "id": "78711afc",
   "metadata": {
    "ExecuteTime": {
     "end_time": "2025-06-22T16:44:08.397173Z",
     "start_time": "2025-06-22T16:44:08.302034Z"
    }
   },
   "source": [
    "################################################################################\n",
    "### START OF YOUR CODE                                                         #\n",
    "### TODO: define mffn as instance of Model class                               #\n",
    "################################################################################\n",
    "\n",
    "# instantiate all layers\n",
    "\n",
    "out_features_h1 = 5\n",
    "in_features_h1 = num_dim\n",
    "in_features_h2 = out_features_h1\n",
    "out_features_h2 = 10\n",
    "in_features_h3 = out_features_h2\n",
    "out_features_h3 = 4\n",
    "in_features_h4 = out_features_h3\n",
    "out_features_h4 = 1\n",
    "\n",
    "w1 = w_buffer[:out_features_h1*in_features_h1].view(out_features_h1, in_features_h1)\n",
    "b1 = b_buffer[:out_features_h1].view(1, out_features_h1)\n",
    "w2 = w_buffer[out_features_h1*in_features_h1 : out_features_h1*in_features_h1 + out_features_h2*in_features_h2].view(out_features_h2, in_features_h2)\n",
    "b2 = b_buffer[out_features_h1 : out_features_h1 + out_features_h2].view(1, out_features_h2)\n",
    "w3 = w_buffer[out_features_h1*in_features_h1 + out_features_h2*in_features_h2 : out_features_h1*in_features_h1 + out_features_h2*in_features_h2 + out_features_h3*in_features_h3].view(out_features_h3, in_features_h3)\n",
    "b3 = b_buffer[out_features_h1 + out_features_h2 : out_features_h1 + out_features_h2 + out_features_h3].view(1, out_features_h3)\n",
    "w4 = w_buffer[out_features_h1*in_features_h1 + out_features_h2*in_features_h2 + out_features_h3*in_features_h3 : out_features_h1*in_features_h1 + out_features_h2*in_features_h2 + out_features_h3*in_features_h3 + out_features_h4*in_features_h4].view(out_features_h4, in_features_h4)\n",
    "b4 = b_buffer[out_features_h1 + out_features_h2 + out_features_h3 : out_features_h1 + out_features_h2 + out_features_h3 + out_features_h4].view(1, out_features_h4)   #todo: out_features_h4 or 1? !!!\n",
    "\n",
    "\n",
    "\n",
    "#pass\n",
    "\n",
    "# instantiate the linear layer object\n",
    "lin1 = Linear(w1, b1)\n",
    "relu1 = Relu()\n",
    "lin2 = Linear(w2, b2)\n",
    "relu2 = Relu()\n",
    "lin3 = Linear(w3, b3)\n",
    "relu3 = Relu()\n",
    "lin4 = Linear(w4, b4)\n",
    "\n",
    "layers = [lin1, relu1, lin2, relu2, lin3, relu3, lin4]\n",
    "\n",
    "#pass\n",
    "\n",
    "# define model using Model class\n",
    "mffn = Model(layers)\n",
    "\n",
    "# forward, mse, backward\n",
    "#pass\n",
    "ypred = mffn.forward(in_data)\n",
    "\n",
    "loss, mse_cache = mse_forward(ypred, labels)    #todo this is prob gonna crash\n",
    "ypredgrad, _ = mse_backward(mse_cache)\n",
    "\n",
    "mffn.backward(ypredgrad)\n",
    "\n",
    "\n",
    "\n",
    "################################################################################\n",
    "### END OF YOUR CODE                                                           #\n",
    "################################################################################"
   ],
   "outputs": [
    {
     "data": {
      "text/plain": [
       "tensor([[2.6398e+08, 2.7008e+08, 2.7631e+08],\n",
       "        [0.0000e+00, 0.0000e+00, 0.0000e+00],\n",
       "        [3.6396e+08, 3.7236e+08, 3.8095e+08],\n",
       "        [0.0000e+00, 0.0000e+00, 0.0000e+00],\n",
       "        [3.0823e+08, 3.1535e+08, 3.2263e+08],\n",
       "        [1.3905e+08, 1.4226e+08, 1.4554e+08],\n",
       "        [3.1995e+07, 3.2734e+07, 3.3489e+07],\n",
       "        [3.5650e+08, 3.6472e+08, 3.7314e+08],\n",
       "        [3.0823e+08, 3.1534e+08, 3.2262e+08],\n",
       "        [0.0000e+00, 0.0000e+00, 0.0000e+00],\n",
       "        [5.7920e+08, 5.9257e+08, 6.0625e+08],\n",
       "        [0.0000e+00, 0.0000e+00, 0.0000e+00],\n",
       "        [4.8183e+08, 4.9295e+08, 5.0433e+08],\n",
       "        [1.6493e+08, 1.6873e+08, 1.7263e+08],\n",
       "        [7.5391e+07, 7.7131e+07, 7.8911e+07],\n",
       "        [6.1651e+07, 6.3074e+07, 6.4530e+07],\n",
       "        [4.6067e+07, 4.7131e+07, 4.8218e+07],\n",
       "        [5.4288e+08, 5.5541e+08, 5.6823e+08],\n",
       "        [3.8479e+08, 3.9367e+08, 4.0275e+08],\n",
       "        [4.3061e+08, 4.4055e+08, 4.5071e+08],\n",
       "        [1.2267e+08, 1.2550e+08, 1.2840e+08],\n",
       "        [0.0000e+00, 0.0000e+00, 0.0000e+00],\n",
       "        [0.0000e+00, 0.0000e+00, 0.0000e+00],\n",
       "        [4.6740e+07, 4.7819e+07, 4.8923e+07],\n",
       "        [4.9113e+08, 5.0247e+08, 5.1407e+08],\n",
       "        [5.4863e+08, 5.6130e+08, 5.7425e+08],\n",
       "        [0.0000e+00, 0.0000e+00, 0.0000e+00],\n",
       "        [0.0000e+00, 0.0000e+00, 0.0000e+00],\n",
       "        [0.0000e+00, 0.0000e+00, 0.0000e+00],\n",
       "        [5.1689e+08, 5.2882e+08, 5.4102e+08],\n",
       "        [1.0225e+09, 1.0461e+09, 1.0703e+09],\n",
       "        [3.5998e+08, 3.6829e+08, 3.7679e+08],\n",
       "        [0.0000e+00, 0.0000e+00, 0.0000e+00],\n",
       "        [1.8939e+08, 1.9376e+08, 1.9824e+08],\n",
       "        [4.5387e+07, 4.6435e+07, 4.7507e+07],\n",
       "        [6.0476e+08, 6.1871e+08, 6.3299e+08],\n",
       "        [2.7790e+08, 2.8431e+08, 2.9087e+08],\n",
       "        [3.6396e+08, 3.7237e+08, 3.8096e+08],\n",
       "        [6.6374e+08, 6.7906e+08, 6.9473e+08],\n",
       "        [2.0658e+08, 2.1135e+08, 2.1623e+08],\n",
       "        [0.0000e+00, 0.0000e+00, 0.0000e+00],\n",
       "        [1.3899e+07, 1.4220e+07, 1.4548e+07],\n",
       "        [0.0000e+00, 0.0000e+00, 0.0000e+00],\n",
       "        [3.8159e+08, 3.9040e+08, 3.9941e+08],\n",
       "        [0.0000e+00, 0.0000e+00, 0.0000e+00],\n",
       "        [3.4840e+08, 3.5644e+08, 3.6467e+08],\n",
       "        [4.8137e+08, 4.9248e+08, 5.0385e+08],\n",
       "        [7.4950e+08, 7.6680e+08, 7.8450e+08],\n",
       "        [3.0287e+08, 3.0986e+08, 3.1701e+08],\n",
       "        [7.9757e+06, 8.1598e+06, 8.3481e+06],\n",
       "        [5.9709e+08, 6.1087e+08, 6.2497e+08],\n",
       "        [9.8179e+08, 1.0045e+09, 1.0276e+09],\n",
       "        [2.8543e+06, 2.9202e+06, 2.9876e+06],\n",
       "        [2.9854e+08, 3.0543e+08, 3.1248e+08],\n",
       "        [3.1261e+06, 3.1983e+06, 3.2721e+06],\n",
       "        [3.6711e+08, 3.7559e+08, 3.8426e+08],\n",
       "        [6.6628e+07, 6.8166e+07, 6.9739e+07],\n",
       "        [3.3965e+08, 3.4749e+08, 3.5551e+08],\n",
       "        [2.6189e+08, 2.6793e+08, 2.7412e+08],\n",
       "        [6.8181e+07, 6.9755e+07, 7.1365e+07],\n",
       "        [4.5052e+08, 4.6092e+08, 4.7156e+08],\n",
       "        [8.7870e+08, 8.9898e+08, 9.1973e+08],\n",
       "        [4.8410e+08, 4.9527e+08, 5.0670e+08],\n",
       "        [7.8249e+08, 8.0055e+08, 8.1902e+08],\n",
       "        [7.2486e+08, 7.4159e+08, 7.5871e+08],\n",
       "        [3.1865e+08, 3.2600e+08, 3.3353e+08],\n",
       "        [0.0000e+00, 0.0000e+00, 0.0000e+00],\n",
       "        [1.0109e+08, 1.0342e+08, 1.0581e+08],\n",
       "        [7.2244e+08, 7.3912e+08, 7.5618e+08],\n",
       "        [2.7501e+08, 2.8135e+08, 2.8785e+08],\n",
       "        [4.7528e+08, 4.8625e+08, 4.9748e+08],\n",
       "        [6.8341e+08, 6.9918e+08, 7.1532e+08],\n",
       "        [5.1283e+08, 5.2467e+08, 5.3678e+08],\n",
       "        [7.3065e+08, 7.4751e+08, 7.6476e+08],\n",
       "        [7.6314e+08, 7.8075e+08, 7.9877e+08],\n",
       "        [4.2055e+08, 4.3026e+08, 4.4019e+08],\n",
       "        [2.2063e+08, 2.2572e+08, 2.3093e+08],\n",
       "        [3.7682e+08, 3.8552e+08, 3.9442e+08],\n",
       "        [4.9886e+08, 5.1037e+08, 5.2215e+08],\n",
       "        [4.1732e+08, 4.2696e+08, 4.3681e+08],\n",
       "        [1.4787e+08, 1.5128e+08, 1.5477e+08],\n",
       "        [2.7545e+08, 2.8181e+08, 2.8831e+08],\n",
       "        [4.9785e+08, 5.0934e+08, 5.2109e+08],\n",
       "        [1.4836e+08, 1.5178e+08, 1.5528e+08],\n",
       "        [2.1859e+08, 2.2364e+08, 2.2880e+08],\n",
       "        [5.9452e+08, 6.0824e+08, 6.2228e+08],\n",
       "        [4.3132e+08, 4.4127e+08, 4.5146e+08],\n",
       "        [2.3774e+08, 2.4322e+08, 2.4884e+08],\n",
       "        [0.0000e+00, 0.0000e+00, 0.0000e+00],\n",
       "        [3.8819e+08, 3.9715e+08, 4.0632e+08]], grad_fn=<MmBackward0>)"
      ]
     },
     "execution_count": 38,
     "metadata": {},
     "output_type": "execute_result"
    }
   ],
   "execution_count": 38
  },
  {
   "cell_type": "markdown",
   "id": "61e16779",
   "metadata": {},
   "source": [
    "#### Check model architecture"
   ]
  },
  {
   "cell_type": "code",
   "id": "fe77c5cd",
   "metadata": {
    "ExecuteTime": {
     "end_time": "2025-06-22T16:44:10.462184Z",
     "start_time": "2025-06-22T16:44:10.385660Z"
    }
   },
   "source": [
    "# check architecture\n",
    "from ann_code.helpers import check_architecture\n",
    "\n",
    "check_architecture(mffn)"
   ],
   "outputs": [
    {
     "name": "stdout",
     "output_type": "stream",
     "text": [
      "Your NN architecture definitions seems CORRECT.\n"
     ]
    }
   ],
   "execution_count": 39
  },
  {
   "cell_type": "markdown",
   "id": "a88eecbb",
   "metadata": {},
   "source": [
    "#### Check gradient computation"
   ]
  },
  {
   "cell_type": "code",
   "id": "e550b660",
   "metadata": {
    "ExecuteTime": {
     "end_time": "2025-06-22T16:45:13.614243Z",
     "start_time": "2025-06-22T16:45:13.523484Z"
    }
   },
   "source": [
    "# print out your gradients of loss with respect to the parameters of the 1st model layer\n",
    "print(f'Your dLoss/dW1: {mffn.layers[0].w_g}')\n",
    "print(f'Your dLoss/db1: {mffn.layers[0].b_g}')\n",
    "print(f'Your dLoss/dins: {mffn.layers[0].ins_g[:2, :]}') \n",
    "    \n",
    "# print out correct gradients of loss with respect to the parameters of the 1st model layer\n",
    "# these should be the same as your gradients from above\n",
    "model_check = grad_model(mffn, in_data, labels)\n",
    "print(f'Correct dLoss/dW1: {model_check.layers[0].w_g}')\n",
    "print(f'Correct dLoss/db1: {model_check.layers[0].b_g}')\n",
    "print(f'Correct dLoss/dins: {model_check.layers[0].ins_g[:2, :]}')"
   ],
   "outputs": [
    {
     "name": "stdout",
     "output_type": "stream",
     "text": [
      "Your dLoss/dW1: tensor([[1.3177e+09, 7.6940e+08, 5.1239e+08],\n",
      "        [1.3458e+09, 7.9341e+08, 5.2419e+08],\n",
      "        [1.3800e+09, 8.1131e+08, 5.3599e+08],\n",
      "        [1.4155e+09, 8.3465e+08, 5.4294e+08],\n",
      "        [1.4540e+09, 8.4408e+08, 5.6341e+08]], grad_fn=<MmBackward0>)\n",
      "Your dLoss/db1: tensor([[3.6906e+09, 3.7709e+09, 3.8548e+09, 3.9402e+09, 4.0251e+09]],\n",
      "       grad_fn=<SumBackward1>)\n",
      "Your dLoss/dins: tensor([[2.6398e+08, 2.7008e+08, 2.7631e+08],\n",
      "        [0.0000e+00, 0.0000e+00, 0.0000e+00]], grad_fn=<SliceBackward0>)\n",
      "Correct dLoss/dW1: tensor([[1.3177e+09, 7.6940e+08, 5.1239e+08],\n",
      "        [1.3458e+09, 7.9341e+08, 5.2419e+08],\n",
      "        [1.3800e+09, 8.1131e+08, 5.3599e+08],\n",
      "        [1.4155e+09, 8.3465e+08, 5.4294e+08],\n",
      "        [1.4540e+09, 8.4408e+08, 5.6341e+08]], grad_fn=<MmBackward0>)\n",
      "Correct dLoss/db1: tensor([[3.6906e+09, 3.7709e+09, 3.8548e+09, 3.9402e+09, 4.0251e+09]],\n",
      "       grad_fn=<SumBackward1>)\n",
      "Correct dLoss/dins: tensor([[2.6398e+08, 2.7008e+08, 2.7631e+08],\n",
      "        [0.0000e+00, 0.0000e+00, 0.0000e+00]], grad_fn=<SliceBackward0>)\n"
     ]
    }
   ],
   "execution_count": 43
  },
  {
   "metadata": {},
   "cell_type": "code",
   "outputs": [],
   "execution_count": null,
   "source": "",
   "id": "4b826766df11f2c0"
  }
 ],
 "metadata": {
  "kernelspec": {
   "display_name": "ann",
   "language": "python",
   "name": "python3"
  },
  "language_info": {
   "codemirror_mode": {
    "name": "ipython",
    "version": 3
   },
   "file_extension": ".py",
   "mimetype": "text/x-python",
   "name": "python",
   "nbconvert_exporter": "python",
   "pygments_lexer": "ipython3",
   "version": "3.12.2"
  }
 },
 "nbformat": 4,
 "nbformat_minor": 5
}
