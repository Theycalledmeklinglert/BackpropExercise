{
 "cells": [
  {
   "cell_type": "markdown",
   "id": "04b3d24d",
   "metadata": {},
   "source": [
    "# Feed forward network\n",
    "\n",
    "In this exercise you shall develop our own building blocks for constructing a feed forward network.\n",
    "We will follow a modular approach so that we can use these building blocks in feed forward architecture of our choice.\n",
    "\n",
    "We will follow the logic of computation graphs where the layers and the loss have the characteristics of the compute nodes in terms of locality and ability to communicate with upstream and downstream blocks.\n",
    "\n",
    "Instead of defining the forward and backward steps as functions that need to pass around cached variables, we will implement the compute nodes as statefull objects - instantiations of python classes with forward and backward methods.\n",
    "\n",
    "We will then conscruct a 2 layer neural network and use our newly developed functionality to predict the target values and compute the parameter gradients.\n",
    "\n",
    "Work through the cells below and complete the tasks indicated by <span style=\"color:red\">**TODO**</span> here below and in the script `ann_code/layers.py` (replace `pass` with the appropriate code)."
   ]
  },
  {
   "cell_type": "code",
   "execution_count": 1,
   "id": "0d6f0ff4",
   "metadata": {},
   "outputs": [],
   "source": [
    "# necessary initialization\n",
    "%load_ext autoreload\n",
    "%autoreload 2\n",
    "\n",
    "import torch"
   ]
  },
  {
   "cell_type": "code",
   "execution_count": 2,
   "id": "979a3fff",
   "metadata": {},
   "outputs": [
    {
     "name": "stdout",
     "output_type": "stream",
     "text": [
      "Number of instances: 90, input dimensions: 3.\n"
     ]
    }
   ],
   "source": [
    "# load data\n",
    "from ann_code.helpers import load_data\n",
    "in_data, labels = load_data(filename='./ann_data/toy_data.csv') # correct filename if necessary\n",
    "\n",
    "# get data dimensions\n",
    "num_inst, num_dim = in_data.shape\n",
    "print(f\"Number of instances: {num_inst}, input dimensions: {num_dim}.\")"
   ]
  },
  {
   "cell_type": "markdown",
   "id": "441dd5a4",
   "metadata": {},
   "source": [
    "## 1) Forward pass\n",
    "\n",
    "We first work on the forward pass functionality of our layer objects."
   ]
  },
  {
   "cell_type": "markdown",
   "id": "798266a9",
   "metadata": {},
   "source": [
    "### Linear layer\n",
    "\n",
    "We start by defyining the linear layer.\n",
    "Complete the `__init__` and `forward` methods of the `Linear` class in `ann_code/layers.py`.\n",
    "\n",
    "The class object instances shall be initialized with the linear function parameters (weight and bias) as the instance attributes.\n",
    "The other local information (inputs, outputs and their gradients) shall be also defined as the instance object attributes and will be populated by the `forward` and `backward` methods."
   ]
  },
  {
   "cell_type": "code",
   "execution_count": 3,
   "id": "e65e8e95",
   "metadata": {},
   "outputs": [
    {
     "name": "stdout",
     "output_type": "stream",
     "text": [
      "Your outputs tensor([[ 1.0220,  1.0258,  1.0295,  1.0329,  1.0361,  1.0391,  1.0418,  1.0441,\n",
      "          1.0462,  1.0479],\n",
      "        [-0.4527, -0.5533, -0.6615, -0.7779, -0.9030, -1.0374, -1.1819, -1.3370,\n",
      "         -1.5037, -1.6827]])\n"
     ]
    }
   ],
   "source": [
    "# after implementing Linear class, check it here\n",
    "from ann_code.layers import Linear\n",
    "\n",
    "# initiate w and b buffers\n",
    "# we use these for initiating the model parameters instead of the usual random init\n",
    "# this is to make sure that yours and mine results match\n",
    "w_buffer = torch.logspace(start=0.1, end=10, steps=1000)\n",
    "b_buffer = torch.logspace(start=0.1, end=10, steps=1000, base=2)\n",
    "\n",
    "# linear layer dimensions\n",
    "in_features = num_dim\n",
    "out_features = 10\n",
    "################################################################################\n",
    "### START OF YOUR CODE                                                         #\n",
    "### TODO: initiate a linear layer instance                                     #\n",
    "################################################################################\n",
    "# initialize linear layer parameters from the buffers\n",
    "# first extract from the buffers the necessary number of elements \n",
    "# followed by view() to get the correct shape\n",
    "# e.g. for 2x3 w matrix with 6 elements in total do \n",
    "# w = w_buffer[:6].view(2, 3)\n",
    "pass\n",
    "\n",
    "# instantiate the linear layer object\n",
    "pass\n",
    "\n",
    "################################################################################\n",
    "### END OF YOUR CODE                                                           #\n",
    "################################################################################\n",
    "\n",
    "# forward pass in_data through the layer\n",
    "outputs = linear.forward(in_data)\n",
    "\n",
    "# check outputs for the first two data instances\n",
    "print(f'Your outputs {outputs[:2,:]}')"
   ]
  },
  {
   "cell_type": "markdown",
   "id": "959d9d18",
   "metadata": {},
   "source": [
    "Expected outputs\n",
    "\n",
    "`tensor([[ 1.0220,  1.0258,  1.0295,  1.0329,  1.0361,  1.0391,  1.0418,  1.0441,\n",
    "          1.0462,  1.0479],\n",
    "        [-0.4527, -0.5533, -0.6615, -0.7779, -0.9030, -1.0374, -1.1819, -1.3370,\n",
    "         -1.5037, -1.6827]])`"
   ]
  },
  {
   "cell_type": "markdown",
   "id": "3bd1e04c",
   "metadata": {},
   "source": [
    "### ReLU nonlinearity\n",
    "\n",
    "We next defined the class for the Rectified Linear Unit which is an element-wise operation defined as $ReLU(x) = max(0, x).$\n",
    "\n",
    "Complete the `forward` methods of the `Relu` class in `ann_code/layers.py`. Note that in this case, there are no parameters that should be included in the object instances as initial states."
   ]
  },
  {
   "cell_type": "code",
   "execution_count": 4,
   "id": "4c8941aa",
   "metadata": {},
   "outputs": [
    {
     "name": "stdout",
     "output_type": "stream",
     "text": [
      "Your outputs tensor([[0.8872, 0.0000, 0.3707],\n",
      "        [0.0000, 1.3094, 0.0000]])\n"
     ]
    }
   ],
   "source": [
    "# After implementing Relu class, check it here\n",
    "from ann_code.layers import Relu\n",
    "\n",
    "# relu instance\n",
    "relu = Relu()\n",
    "\n",
    "# forward pass in_data through the layer\n",
    "outputs = relu.forward(in_data)\n",
    "\n",
    "# check outputs for the first two data instances\n",
    "print(f'Your outputs {outputs[:2,:]}')"
   ]
  },
  {
   "cell_type": "markdown",
   "id": "278bafde",
   "metadata": {},
   "source": [
    "Expected outputs\n",
    "\n",
    "`tensor([[0.8872, 0.0000, 0.3707],\n",
    "        [0.0000, 1.3094, 0.0000]])`"
   ]
  },
  {
   "cell_type": "markdown",
   "id": "941c79b9",
   "metadata": {},
   "source": [
    "### Define network with on hidden layer\n",
    "\n",
    "We use the linear and relu classes to create a network with the following architecture. \n",
    "We combine the layers through the `Model` class that I defined for you in the `ann_code/layers.py`\n",
    "\n",
    "We will add the MSE less in a later step, now do just the forward pass through the layers to obtain the predicitons.\n",
    "\n",
    "<center><img src=\"net_diagram.png\">\n",
    "\n"
   ]
  },
  {
   "cell_type": "code",
   "execution_count": 5,
   "id": "8ad5a04d",
   "metadata": {},
   "outputs": [
    {
     "name": "stdout",
     "output_type": "stream",
     "text": [
      "Your outputs tensor([[8.1458],\n",
      "        [1.1016]])\n"
     ]
    }
   ],
   "source": [
    "# work with Model class to do the forward pass through the network\n",
    "from ann_code.layers import Model\n",
    "\n",
    "################################################################################\n",
    "### START OF YOUR CODE                                                         #\n",
    "### TODO: initiate all layers of nerual network                                #\n",
    "################################################################################\n",
    "# initialize parameters for all layers from the w_buffer and b_buffer\n",
    "# first extract from the buffers the necessary number of elements \n",
    "# followed by view() to get the correct shape\n",
    "# start after the last previously used element of the buffer for every new parameter from the same buffer\n",
    "# e.g. for 2x3 matrix w1 with 6 elements and 3x3 matrix w2 with 9 elements do\n",
    "# w1 = w_buffer[:6].view(2, 3)\n",
    "# w2 = w_buffer[6:15].view(3, 3)\n",
    "pass\n",
    "\n",
    "# define all necessary layers as instances of the Linear and Relu classes\n",
    "pass\n",
    "\n",
    "# create a list with the layers to be passed to Model(layers)\n",
    "pass\n",
    "\n",
    "################################################################################\n",
    "### END OF YOUR CODE                                                           #\n",
    "################################################################################\n",
    "\n",
    "\n",
    "# forward pass in_data through all layers to get predictions\n",
    "model = Model(layers)\n",
    "ypred = model.forward(in_data)\n",
    "\n",
    "\n",
    "# check outputs for the first two data instances\n",
    "print(f'Your outputs {ypred[:2,:]}')"
   ]
  },
  {
   "cell_type": "markdown",
   "id": "c87699ab",
   "metadata": {},
   "source": [
    "Expected output\n",
    "\n",
    "`tensor([[8.1458],\n",
    "        [1.1016]])`"
   ]
  },
  {
   "cell_type": "markdown",
   "id": "a63f299c",
   "metadata": {},
   "source": [
    "## 3) MSE loss\n",
    "\n",
    "We use the MSE loss functions defined in `ann_code/linear_regression.py` to get the mse loss for our predictions and the corresponding gradients."
   ]
  },
  {
   "cell_type": "code",
   "execution_count": 6,
   "id": "5f704f6b",
   "metadata": {},
   "outputs": [],
   "source": [
    "# use mse functions defined for linear regression to get the MSE and gradient with respect to predictions\n",
    "from ann_code.linear_regression import mse_forward, mse_backward\n",
    "\n",
    "loss, mse_cache = mse_forward(ypred, labels)\n",
    "ypredgrad, _ = mse_backward(mse_cache)"
   ]
  },
  {
   "cell_type": "markdown",
   "id": "f4c3bcb0",
   "metadata": {},
   "source": [
    "## 3) Backward propagation\n",
    "\n",
    "Finally, you need to implement the `backward` methods in for the `Linear` and `Relu` classes.\n",
    "\n",
    "Remember that you need to use the chain rule and combine the local and the upstream gradient to obtain the global gradients. Do not forget that ReLu is an element-wise operation."
   ]
  },
  {
   "cell_type": "code",
   "execution_count": 7,
   "id": "97b4ced4",
   "metadata": {},
   "outputs": [
    {
     "name": "stdout",
     "output_type": "stream",
     "text": [
      "Global gradient of loss with respect to weight parameters tensor([[106.2968, 108.7577, 111.4530, 114.4143]])\n",
      "Global gradient of loss with respect to bias parameters tensor([[90.]])\n",
      "Global gradient of loss with respect to linear layer inputs tensor([[1.6555, 1.6937, 1.7328, 1.7728],\n",
      "        [1.6555, 1.6937, 1.7328, 1.7728]])\n"
     ]
    }
   ],
   "source": [
    "# After implementing the backward passes of Linear class test it here\n",
    "\n",
    "# do the backward pass of last linear layer\n",
    "lin2.backward(torch.ones(num_inst, 1))\n",
    "\n",
    "# check global gradients\n",
    "print(f'Global gradient of loss with respect to weight parameters {lin2.W.g}')\n",
    "print(f'Global gradient of loss with respect to bias parameters {lin2.b.g}')\n",
    "print(f'Global gradient of loss with respect to linear layer inputs {lin2.ins.g[:2,:]}')"
   ]
  },
  {
   "cell_type": "markdown",
   "id": "b853b139",
   "metadata": {},
   "source": [
    "Expected results\n",
    "\n",
    "`Global gradient of loss with respect to weight parameters tensor([[106.2968, 108.7577, 111.4530, 114.4143]])`\n",
    "\n",
    "`Global gradient of loss with respect to bias parameters tensor([[90.]])`\n",
    "\n",
    "`Global gradient of loss with respect to linear layer inputs tensor([[1.6555, 1.6937, 1.7328, 1.7728],\n",
    "        [1.6555, 1.6937, 1.7328, 1.7728]])`"
   ]
  },
  {
   "cell_type": "code",
   "execution_count": 8,
   "id": "1a043849",
   "metadata": {},
   "outputs": [
    {
     "name": "stdout",
     "output_type": "stream",
     "text": [
      "Global gradient of loss with respect to relu inputs tensor([[0., 1., 2., 3.],\n",
      "        [0., 0., 0., 0.]])\n"
     ]
    }
   ],
   "source": [
    "# After implementing the backward passes of relu class test it here\n",
    "\n",
    "# do the backward pass of relu\n",
    "relu1.backward(torch.arange(num_inst*4).view(num_inst, 4))\n",
    "\n",
    "# check global gradients\n",
    "print(f'Global gradient of loss with respect to relu inputs {relu1.ins.g[:2,:]}')"
   ]
  },
  {
   "cell_type": "markdown",
   "id": "f9b0ffd7",
   "metadata": {},
   "source": [
    "Expected results\n",
    "\n",
    "`Global gradient of loss with respect to relu inputs tensor([[0., 1., 2., 3.],\n",
    "        [0., 0., 0., 0.]])`"
   ]
  },
  {
   "cell_type": "markdown",
   "id": "17daa25f",
   "metadata": {},
   "source": [
    "## Complete backward pass\n",
    "\n",
    "We shall use the Model class to get the gradients of all the layers and their parameters with respect to the loss."
   ]
  },
  {
   "cell_type": "code",
   "execution_count": 9,
   "id": "f8234339",
   "metadata": {},
   "outputs": [
    {
     "name": "stdout",
     "output_type": "stream",
     "text": [
      "Your dLoss/dW1: tensor([[10.4693,  6.8379,  4.1449],\n",
      "        [10.5790,  7.0695,  4.3389],\n",
      "        [10.8324,  7.2315,  4.4382],\n",
      "        [11.0693,  7.3818,  4.5600]])\n",
      "Your dLoss/db1: tensor([[31.2568, 31.9208, 32.6484, 33.4148]])\n",
      "Your dLoss/dins: tensor([[1.6884, 1.7274, 1.7673],\n",
      "        [0.0000, 0.0000, 0.0000]])\n",
      "Correct dLoss/dW1: tensor([[10.4693,  6.8379,  4.1449],\n",
      "        [10.5790,  7.0695,  4.3389],\n",
      "        [10.8324,  7.2315,  4.4382],\n",
      "        [11.0693,  7.3818,  4.5600]])\n",
      "Correct dLoss/db1: tensor([[31.2568, 31.9208, 32.6484, 33.4148]])\n",
      "Correct dLoss/dins: tensor([[1.6884, 1.7274, 1.7673],\n",
      "        [0.0000, 0.0000, 0.0000]])\n"
     ]
    }
   ],
   "source": [
    "from ann_code.helpers import grad_model\n",
    "\n",
    "# do the backward pass through the model\n",
    "model.backward(ypredgrad)\n",
    "\n",
    "# print out your gradients of loss with respect to the parameters of the 1st model layer\n",
    "print(f'Your dLoss/dW1: {model.layers[0].W.g}')\n",
    "print(f'Your dLoss/db1: {model.layers[0].b.g}')\n",
    "print(f'Your dLoss/dins: {model.layers[0].ins.g[:2, :]}')\n",
    "\n",
    "# print out correct gradients of loss with respect to the parameters of the 1st model layer\n",
    "# these should be the same as your gradients from above\n",
    "model_check = grad_model(model, in_data, labels)\n",
    "print(f'Correct dLoss/dW1: {model_check.layers[0].W.grad}')\n",
    "print(f'Correct dLoss/db1: {model_check.layers[0].b.grad}')\n",
    "print(f'Correct dLoss/dins: {model_check.layers[0].ins.grad[:2, :]}')"
   ]
  },
  {
   "cell_type": "markdown",
   "id": "cf57647f",
   "metadata": {},
   "source": [
    "## 4) Multilayer feed forward network\n",
    "\n",
    "Finally, use your `Linear` and `Relu` classes and combine them with the `Model` class to construct a more complicated network.\n",
    "\n",
    "Define a network with the following architecture:\n",
    "Linear: input_dim = 3, output_dim = 5 -> Relu ->\n",
    "Linear: input_dim = 5, output_dim = 10 -> Relu ->\n",
    "Linear: input_dim = 10, output_dim = 4 -> Relu ->\n",
    "Linear: input_dim = 4, output_dim = 1\n",
    "\n",
    "Initialize all the linear layers with parameters W and b sampled randomly from standardat normal distribution.\n",
    "\n",
    "Combine the layers using the `Model` class and get the predictions (`forward` method).\n",
    "\n",
    "Use the MSE forward and backward functions to get the loss and the gradient with respect to the predictions.\n",
    "\n",
    "Use the `backward` method of `Model` to get all the gradients."
   ]
  },
  {
   "cell_type": "code",
   "execution_count": 10,
   "id": "78711afc",
   "metadata": {},
   "outputs": [],
   "source": [
    "################################################################################\n",
    "### START OF YOUR CODE                                                         #\n",
    "### TODO: define mffn as instance of Model class                               #\n",
    "################################################################################\n",
    "\n",
    "# instantiate all layers\n",
    "pass\n",
    "\n",
    "# define model using Model class\n",
    "mffn = Model(layers)\n",
    "\n",
    "# forward, mse, backward\n",
    "pass\n",
    "\n",
    "################################################################################\n",
    "### END OF YOUR CODE                                                           #\n",
    "################################################################################"
   ]
  },
  {
   "cell_type": "markdown",
   "id": "61e16779",
   "metadata": {},
   "source": [
    "#### Check model architecture"
   ]
  },
  {
   "cell_type": "code",
   "execution_count": 11,
   "id": "fe77c5cd",
   "metadata": {},
   "outputs": [
    {
     "name": "stdout",
     "output_type": "stream",
     "text": [
      "Your NN architecture definitions seems CORRECT.\n"
     ]
    }
   ],
   "source": [
    "# check architecture\n",
    "from ann_code.helpers import check_architecture\n",
    "\n",
    "check_architecture(mffn)"
   ]
  },
  {
   "cell_type": "markdown",
   "id": "a88eecbb",
   "metadata": {},
   "source": [
    "#### Check gradient computation"
   ]
  },
  {
   "cell_type": "code",
   "execution_count": 12,
   "id": "e550b660",
   "metadata": {},
   "outputs": [
    {
     "name": "stdout",
     "output_type": "stream",
     "text": [
      "Your dLoss/dW1: tensor([[-0.0642,  0.3048, -0.6759],\n",
      "        [ 0.0927, -0.1344,  0.1958],\n",
      "        [-0.7675,  1.4048, -1.7181],\n",
      "        [-0.0871,  0.5533, -0.8004],\n",
      "        [-0.0665, -0.2602,  0.2186]], grad_fn=<MmBackward0>)\n",
      "Your dLoss/db1: tensor([[ 0.5142, -0.1490,  1.3070,  0.2416,  0.3607]], grad_fn=<SumBackward1>)\n",
      "Your dLoss/dins: tensor([[ 0.0000,  0.0000,  0.0000],\n",
      "        [-0.0597, -0.0060, -0.2855]], grad_fn=<SliceBackward0>)\n",
      "Correct dLoss/dW1: tensor([[-0.0642,  0.3048, -0.6759],\n",
      "        [ 0.0927, -0.1344,  0.1958],\n",
      "        [-0.7675,  1.4048, -1.7181],\n",
      "        [-0.0871,  0.5533, -0.8004],\n",
      "        [-0.0665, -0.2602,  0.2186]])\n",
      "Correct dLoss/db1: tensor([[ 0.5142, -0.1490,  1.3070,  0.2416,  0.3607]])\n",
      "Correct dLoss/dins: tensor([[ 0.0000,  0.0000,  0.0000],\n",
      "        [-0.0597, -0.0060, -0.2855]])\n"
     ]
    }
   ],
   "source": [
    "# print out your gradients of loss with respect to the parameters of the 1st model layer\n",
    "print(f'Your dLoss/dW1: {mffn.layers[0].W.g}')\n",
    "print(f'Your dLoss/db1: {mffn.layers[0].b.g}')\n",
    "print(f'Your dLoss/dins: {mffn.layers[0].ins.g[:2, :]}') \n",
    "    \n",
    "# print out correct gradients of loss with respect to the parameters of the 1st model layer\n",
    "# these should be the same as your gradients from above\n",
    "model_check = grad_model(mffn, in_data, labels)\n",
    "print(f'Correct dLoss/dW1: {model_check.layers[0].W.grad}')\n",
    "print(f'Correct dLoss/db1: {model_check.layers[0].b.grad}')\n",
    "print(f'Correct dLoss/dins: {model_check.layers[0].ins.grad[:2, :]}')"
   ]
  }
 ],
 "metadata": {
  "kernelspec": {
   "display_name": "ann",
   "language": "python",
   "name": "python3"
  },
  "language_info": {
   "codemirror_mode": {
    "name": "ipython",
    "version": 3
   },
   "file_extension": ".py",
   "mimetype": "text/x-python",
   "name": "python",
   "nbconvert_exporter": "python",
   "pygments_lexer": "ipython3",
   "version": "3.12.2"
  }
 },
 "nbformat": 4,
 "nbformat_minor": 5
}
